{
 "cells": [
  {
   "cell_type": "code",
   "execution_count": 3,
   "metadata": {
    "collapsed": true
   },
   "outputs": [],
   "source": [
    "### Workbook 4 - Implementing Salamon and Bello's Convolutional Neural Network "
   ]
  },
  {
   "cell_type": "markdown",
   "metadata": {},
   "source": [
    "This is a Keras/Tensorflow implementation of the 5-layer CNN described in Salamon and Bello's paper (https://arxiv.org/pdf/1608.04363.pdf).\n",
    "\n",
    "First, import the libraries. As with the earlier notebooks, the audio processing is handled by a library called librosa, if you haven't already installed it on your local system, do that with: pip install librosa"
   ]
  },
  {
   "cell_type": "code",
   "execution_count": 4,
   "metadata": {},
   "outputs": [],
   "source": [
    "import glob\n",
    "import os\n",
    "import librosa\n",
    "import matplotlib.pyplot as plt\n",
    "import tensorflow as tf\n",
    "import numpy as np"
   ]
  },
  {
   "cell_type": "markdown",
   "metadata": {},
   "source": [
    "If you're going to run this code with the full data set, this notebook assumes you've already run the feature extraction code in notebook 3. \n",
    "\n",
    "If you have a powerful computer, and don't mind the training process taking longer, you can set the all_folds flag to true - which will create a single large training set of 43722 examples, using the first 8 folds. \n"
   ]
  },
  {
   "cell_type": "code",
   "execution_count": 5,
   "metadata": {},
   "outputs": [],
   "source": [
    "data_dir = \"data/us8k-np-cnn\"\n",
    "\n",
    "# this will aggregate all the training data \n",
    "def load_all_folds(): \n",
    "    subsequent_fold = False\n",
    "    for k in range(1,9):\n",
    "        fold_name = 'fold' + str(k)\n",
    "        print \"\\nAdding \" + fold_name\n",
    "        feature_file = os.path.join(data_dir, fold_name + '_x.npy')\n",
    "        labels_file = os.path.join(data_dir, fold_name + '_y.npy')\n",
    "        loaded_features = np.load(feature_file)\n",
    "        loaded_labels = np.load(labels_file)\n",
    "        print \"New Features: \", loaded_features.shape\n",
    "\n",
    "        if subsequent_fold:\n",
    "            train_x = np.concatenate((features, loaded_features))\n",
    "            train_y = np.concatenate((labels, loaded_labels))\n",
    "        else:\n",
    "            train_x = loaded_features\n",
    "            train_y = loaded_labels\n",
    "            subsequent_fold = True\n",
    "        \n",
    "    # use the penultimate fold for validation\n",
    "    valid_fold_name = 'fold9'\n",
    "    feature_file = os.path.join(data_dir, valid_fold_name + '_x.npy')\n",
    "    labels_file = os.path.join(data_dir, valid_fold_name + '_y.npy')\n",
    "    valid_x = np.load(feature_file)\n",
    "    valid_y = np.load(labels_file) \n",
    "\n",
    "    # and use the last fold for testing\n",
    "    test_fold_name = 'fold10'\n",
    "    feature_file = os.path.join(data_dir, test_fold_name + '_x.npy')\n",
    "    labels_file = os.path.join(data_dir, test_fold_name + '_y.npy')\n",
    "    test_x = np.load(feature_file)\n",
    "    test_y = np.load(labels_file)\n",
    "    \n",
    "\n",
    "# this is used to load the folds incrementally\n",
    "def load_folds(folds):\n",
    "    subsequent_fold = False\n",
    "    for k in range(len(folds)):\n",
    "        fold_name = 'fold' + str(folds[k])\n",
    "        feature_file = os.path.join(data_dir, fold_name + '_x.npy')\n",
    "        labels_file = os.path.join(data_dir, fold_name + '_y.npy')\n",
    "        loaded_features = np.load(feature_file)\n",
    "        loaded_labels = np.load(labels_file)\n",
    "        print fold_name, \"features: \", loaded_features.shape\n",
    "\n",
    "        if subsequent_fold:\n",
    "            features = np.concatenate((features, loaded_features))\n",
    "            labels = np.concatenate((labels, loaded_labels))\n",
    "        else:\n",
    "            features = loaded_features\n",
    "            labels = loaded_labels\n",
    "            subsequent_fold = True\n",
    "        \n",
    "    return features, labels"
   ]
  },
  {
   "cell_type": "markdown",
   "metadata": {},
   "source": [
    "-----"
   ]
  },
  {
   "cell_type": "markdown",
   "metadata": {},
   "source": [
    "### Training a Convolutional Neural Network with Keras and TensorFlow"
   ]
  },
  {
   "cell_type": "markdown",
   "metadata": {},
   "source": [
    "First, the imports we need and a few configuration variables."
   ]
  },
  {
   "cell_type": "code",
   "execution_count": 6,
   "metadata": {},
   "outputs": [],
   "source": [
    "tf.set_random_seed(0)\n",
    "np.random.seed(0)\n",
    "\n",
    "from keras.models import Sequential\n",
    "from keras.layers import Dense, Dropout, Activation, Flatten\n",
    "from keras.layers import Convolution2D, MaxPooling2D\n",
    "from keras.optimizers import SGD, Adam, Adagrad\n",
    "from keras.callbacks import EarlyStopping\n",
    "from sklearn.metrics import precision_recall_fscore_support, roc_auc_score\n",
    "from keras.utils import np_utils\n",
    "from keras.regularizers import l2, activity_l2\n",
    "\n",
    "frames = 41\n",
    "bands = 60\n",
    "feature_size = bands * frames #60x41\n",
    "num_channels = 2\n",
    "num_labels = 10 # test_y.shape[1]"
   ]
  },
  {
   "cell_type": "markdown",
   "metadata": {},
   "source": [
    "This method defines some evaluation metrics that will be used to evaluate the performance of a trained model."
   ]
  },
  {
   "cell_type": "code",
   "execution_count": 7,
   "metadata": {
    "collapsed": true
   },
   "outputs": [],
   "source": [
    "def evaluate(model):\n",
    "    y_prob = model.predict_proba(test_x, verbose=0)\n",
    "    y_pred = np_utils.probas_to_classes(y_prob)\n",
    "    y_true = np.argmax(test_y, 1)\n",
    "\n",
    "    roc = roc_auc_score(test_y, y_prob)\n",
    "    print \"ROC:\",  round(roc,3)\n",
    "\n",
    "    # evaluate the model\n",
    "    score, accuracy = model.evaluate(test_x, test_y, batch_size=32)\n",
    "    print(\"\\nAccuracy = {:.2f}\".format(accuracy))\n",
    "\n",
    "    # the F-score gives a similiar value to the accuracy score, but useful for cross-checking\n",
    "    p,r,f,s = precision_recall_fscore_support(y_true, y_pred, average='micro')\n",
    "    print \"F-Score:\", round(f,2)\n",
    "    \n",
    "    return roc, accuracy"
   ]
  },
  {
   "cell_type": "markdown",
   "metadata": {},
   "source": [
    "This method contains the code that defines the successive layers of our convolutional neural network (CNN) described in this paper by Salamon and Bello: https://arxiv.org/pdf/1608.04363.pdf"
   ]
  },
  {
   "cell_type": "code",
   "execution_count": 8,
   "metadata": {
    "collapsed": true
   },
   "outputs": [],
   "source": [
    "def build_model():\n",
    "    \n",
    "    model = Sequential()\n",
    "    # input: 60x41 data frames with 2 channels => (60,41,2) tensors\n",
    "\n",
    "    # filters of size 3x3 - paper describes using 5x5, but their input data is 128x128\n",
    "    f_size = 3\n",
    "\n",
    "    # Layer 1 - 24 filters with a receptive field of (f,f), i.e. W has the\n",
    "    # shape (24,1,f,f).  This is followed by (4,2) max-pooling over the last\n",
    "    # two dimensions and a ReLU activation function\n",
    "    model.add(Convolution2D(24, f_size, f_size, border_mode='same', init=\"normal\", input_shape=(bands, frames, num_channels)))\n",
    "    model.add(MaxPooling2D(pool_size=(4, 2)))\n",
    "    model.add(Activation('relu'))\n",
    "\n",
    "    # Layer 2 - 48 filters with a receptive field of (f,f), i.e. W has the \n",
    "    # shape (48, 24, f, f). Like L1 this is followed by (4,2) max-pooling \n",
    "    # and a ReLU activation function.\n",
    "    model.add(Convolution2D(48, f_size, f_size, init=\"normal\", border_mode='same'))\n",
    "    model.add(MaxPooling2D(pool_size=(4, 2)))\n",
    "    model.add(Activation('relu'))\n",
    "\n",
    "    # Layer 3 - 48 filters with a receptive field of (f,f), i.e. W has the\n",
    "    # shape (48, 48, f, f). This is followed by a ReLU but no pooling.\n",
    "    model.add(Convolution2D(48, f_size, f_size, border_mode='valid'))\n",
    "    model.add(Activation('relu'))\n",
    "\n",
    "    # flatten output into a single dimension, let Keras do shape inference\n",
    "    model.add(Flatten())\n",
    "\n",
    "    # Layer 4 - a fully connected NN layer of 64 hidden units, L2 penalty of 0.001\n",
    "    model.add(Dense(64, W_regularizer=l2(0.001)))\n",
    "    model.add(Activation('relu'))\n",
    "    model.add(Dropout(0.5))\n",
    "\n",
    "    # Layer 5 - an output layer with one output unit per class, with L2 penalty, \n",
    "    # followed by a softmax activation function\n",
    "    model.add(Dense(num_labels, W_regularizer=l2(0.001)))\n",
    "    model.add(Dropout(0.5))\n",
    "    model.add(Activation('softmax'))\n",
    "\n",
    "    # compile and fit model, reduce epochs if you want a result faster\n",
    "    # the validation set is used to identify parameter settings (epoch) that achieves \n",
    "    # the highest classification accuracy\n",
    "    model.compile(loss='categorical_crossentropy', metrics=['accuracy'], optimizer=\"adamax\")\n",
    "    \n",
    "    return model"
   ]
  },
  {
   "cell_type": "markdown",
   "metadata": {},
   "source": [
    "### Training on a minimised data set"
   ]
  },
  {
   "cell_type": "markdown",
   "metadata": {},
   "source": [
    "The data set is a large quantity of data, which is quite computationally intensive to process. But if you've checked out the git repository for this project, I've included a selection from the original data set, which should allow you to run the CNN and see how it works. Obviously as this training set size is much smaller and contains much less diversity than the full set, lower accuracies will be achievable when models are trained on it, but it will allow you to run the code and explore how it works. "
   ]
  },
  {
   "cell_type": "code",
   "execution_count": 20,
   "metadata": {},
   "outputs": [
    {
     "name": "stdout",
     "output_type": "stream",
     "text": [
      "fold1 features:  (5446, 60, 41, 2)\n",
      "fold2 features:  (5388, 60, 41, 2)\n",
      "fold3 features:  (5852, 60, 41, 2)\n",
      "fold9 features:  (5118, 60, 41, 2)\n",
      "fold10 features:  (5218, 60, 41, 2)\n",
      "Building model...\n",
      "Training model...\n",
      "Train on 16686 samples, validate on 5118 samples\n",
      "Epoch 1/12\n",
      "16686/16686 [==============================] - 64s - loss: 2.1939 - acc: 0.2140 - val_loss: 2.0159 - val_acc: 0.2532\n",
      "Epoch 2/12\n",
      "16686/16686 [==============================] - 64s - loss: 1.9663 - acc: 0.3076 - val_loss: 1.9394 - val_acc: 0.3214\n",
      "Epoch 3/12\n",
      "16686/16686 [==============================] - 64s - loss: 1.7583 - acc: 0.3674 - val_loss: 1.8850 - val_acc: 0.3376\n",
      "Epoch 4/12\n",
      "16686/16686 [==============================] - 66s - loss: 1.6103 - acc: 0.4147 - val_loss: 1.8866 - val_acc: 0.3912\n",
      "Epoch 5/12\n",
      "16686/16686 [==============================] - 64s - loss: 1.4991 - acc: 0.4506 - val_loss: 1.8545 - val_acc: 0.4017\n",
      "Epoch 6/12\n",
      "16686/16686 [==============================] - 64s - loss: 1.4288 - acc: 0.4700 - val_loss: 1.7745 - val_acc: 0.4388\n",
      "Epoch 7/12\n",
      "16686/16686 [==============================] - 64s - loss: 1.3687 - acc: 0.4893 - val_loss: 1.9818 - val_acc: 0.3974\n",
      "Epoch 8/12\n",
      "16686/16686 [==============================] - 63s - loss: 1.3354 - acc: 0.4960 - val_loss: 2.2752 - val_acc: 0.4125\n",
      "Epoch 9/12\n",
      "16686/16686 [==============================] - 66s - loss: 1.2968 - acc: 0.5032 - val_loss: 1.9761 - val_acc: 0.4902\n",
      "Epoch 00008: early stopping\n",
      "Evaluating model...\n",
      "ROC: 0.863\n",
      "5216/5218 [============================>.] - ETA: 0s\n",
      "Accuracy = 0.54\n",
      "F-Score: 0.54\n"
     ]
    }
   ],
   "source": [
    "# change this to data/us8k-np-cnn if you have the full dataset\n",
    "data_dir = \"data/us8k-np-cnn-mini\"\n",
    "\n",
    "# load fold1 for testing (or 1,2,3 if you have full data)\n",
    "train_x, train_y = load_folds([1])\n",
    "\n",
    "# load fold2 for validation (or 9 if full data)\n",
    "valid_x, valid_y = load_folds([2])\n",
    "    \n",
    "# load fold3 for testing (or 10 if full data)\n",
    "test_x, test_y = load_folds([3])\n",
    "\n",
    "print(\"Building model...\")\n",
    "model = build_model()\n",
    "\n",
    "# a stopping function to stop training before we excessively overfit to the training set\n",
    "earlystop = EarlyStopping(monitor='val_loss', patience=2, verbose=1, mode='auto')\n",
    "\n",
    "# now fit the model to the training data, evaluating loss against the validation data\n",
    "print(\"Training model...\")\n",
    "history = model.fit(train_x, train_y, validation_data=(valid_x, valid_y), callbacks=[earlystop], batch_size=20, nb_epoch=12)\n",
    "\n",
    "# now evaluate the trained model against the unseen test data\n",
    "print(\"Evaluating model...\")\n",
    "roc, acc = evaluate(model)"
   ]
  },
  {
   "cell_type": "markdown",
   "metadata": {},
   "source": [
    "### Training on the full data set (intensive) "
   ]
  },
  {
   "cell_type": "markdown",
   "metadata": {},
   "source": [
    "This is the training process, it will create a fresh model for each trial, load the next fold of input data, fit it to the model and evaluate the accuracy achieved. When all the input data has been used, we can calculate the average accuracy for all the folds. The parameters used here have been chosen to allow computation to run on a reasonably powered laptop in less than 10 minutes. When running it on an 8-core high-memory cloud instance, more epochs and larger training sets can be used, this will produce greater prediction accuracy, but come at the cost of much greater training time."
   ]
  },
  {
   "cell_type": "code",
   "execution_count": 12,
   "metadata": {},
   "outputs": [
    {
     "name": "stdout",
     "output_type": "stream",
     "text": [
      "\n",
      "*** Train on (1, 2, 3) Validate on 4 Test on 5 ***\n",
      "fold1 features:  (5446, 60, 41, 2)\n",
      "fold2 features:  (5388, 60, 41, 2)\n",
      "fold3 features:  (5852, 60, 41, 2)\n",
      "fold4 features:  (6048, 60, 41, 2)\n",
      "fold5 features:  (5689, 60, 41, 2)\n",
      "Building model...\n",
      "Training model...\n",
      "Train on 16686 samples, validate on 6048 samples\n",
      "Epoch 1/2\n",
      "16686/16686 [==============================] - 74s - loss: 2.1965 - acc: 0.2171 - val_loss: 1.9184 - val_acc: 0.3054\n",
      "Epoch 2/2\n",
      "16686/16686 [==============================] - 67s - loss: 1.9443 - acc: 0.3093 - val_loss: 1.7758 - val_acc: 0.4347\n",
      "Evaluating model...\n",
      "ROC: 0.798\n",
      "5689/5689 [==============================] - 9s     \n",
      "\n",
      "Accuracy = 0.34\n",
      "F-Score: 0.34\n",
      "\n",
      "*** Train on (2, 3, 4) Validate on 5 Test on 6 ***\n",
      "fold2 features:  (5388, 60, 41, 2)\n",
      "fold3 features:  (5852, 60, 41, 2)\n",
      "fold4 features:  (6048, 60, 41, 2)\n",
      "fold5 features:  (5689, 60, 41, 2)\n",
      "fold6 features:  (5080, 60, 41, 2)\n",
      "Building model...\n",
      "Training model...\n",
      "Train on 17288 samples, validate on 5689 samples\n",
      "Epoch 1/2\n",
      "17288/17288 [==============================] - 71s - loss: 2.2377 - acc: 0.1872 - val_loss: 2.1070 - val_acc: 0.1317\n",
      "Epoch 2/2\n",
      "17288/17288 [==============================] - 74s - loss: 2.0207 - acc: 0.2793 - val_loss: 1.9992 - val_acc: 0.1932\n",
      "Evaluating model...\n",
      "ROC: 0.768\n",
      "5080/5080 [==============================] - 6s     \n",
      "\n",
      "Accuracy = 0.27\n",
      "F-Score: 0.27\n",
      "\n",
      "*** Train on (3, 4, 5) Validate on 6 Test on 7 ***\n",
      "fold3 features:  (5852, 60, 41, 2)\n",
      "fold4 features:  (6048, 60, 41, 2)\n",
      "fold5 features:  (5689, 60, 41, 2)\n",
      "fold6 features:  (5080, 60, 41, 2)\n",
      "fold7 features:  (5277, 60, 41, 2)\n",
      "Building model...\n",
      "Training model...\n",
      "Train on 17589 samples, validate on 5080 samples\n",
      "Epoch 1/2\n",
      "17589/17589 [==============================] - 75s - loss: 2.1972 - acc: 0.2083 - val_loss: 2.0948 - val_acc: 0.2248\n",
      "Epoch 2/2\n",
      "17589/17589 [==============================] - 82s - loss: 1.9407 - acc: 0.3164 - val_loss: 1.8980 - val_acc: 0.3421\n",
      "Evaluating model...\n",
      "ROC: 0.769\n",
      "5277/5277 [==============================] - 7s     \n",
      "\n",
      "Accuracy = 0.34\n",
      "F-Score: 0.34\n",
      "\n",
      "Average R.O.C: 0.778\n",
      "Average Accuracy: 0.314\n"
     ]
    }
   ],
   "source": [
    "data_dir = \"data/us8k-np-cnn\"\n",
    "all_folds = False\n",
    "av_acc = 0.\n",
    "av_roc = 0.\n",
    "num_folds = 0\n",
    "\n",
    "# as we use two folds for training, there are 9 possible trails rather than 10\n",
    "max_trials = 3\n",
    "\n",
    "# earlystopping ends training when the validation loss stops improving\n",
    "earlystop = EarlyStopping(monitor='val_loss', patience=0, verbose=0, mode='auto')\n",
    "\n",
    "if all_folds:\n",
    "    load_all_folds()\n",
    "    model.fit(train_x, train_y, validation_data=(valid_x, valid_y), callbacks=[earlystop], batch_size=32, nb_epoch=1)\n",
    "else:\n",
    "    # use folds incrementally\n",
    "    for f in range(1,max_trials+1):\n",
    "        num_folds += 1\n",
    "        v = f + 3\n",
    "        if v > 10: v = 1\n",
    "        t = v + 1\n",
    "        if t > 10: t = 1\n",
    "        \n",
    "        print \"\\n*** Train on\", (f,f+1,f+2), \"Validate on\", v, \"Test on\", t, \"***\"\n",
    "    \n",
    "        # load two folds for training data\n",
    "        train_x, train_y = load_folds([f,f+1,f+2])\n",
    "    \n",
    "        # load one fold for validation\n",
    "        valid_x, valid_y = load_folds([v])\n",
    "    \n",
    "        # load one fold for testing\n",
    "        test_x, test_y = load_folds([t])\n",
    "        \n",
    "        num_labels = test_y.shape[1]\n",
    "        \n",
    "        print(\"Building model...\")\n",
    "        model = build_model()\n",
    "\n",
    "        # now fit the model to the training data, evaluating loss against the validation data\n",
    "        print(\"Training model...\")\n",
    "        model.fit(train_x, train_y, validation_data=(valid_x, valid_y), callbacks=[earlystop], batch_size=24, nb_epoch=2)\n",
    "        \n",
    "        \n",
    "        # now evaluate the trained model against the unseen test data\n",
    "        print(\"Evaluating model...\")\n",
    "        roc, acc = evaluate(model)\n",
    "        av_roc += roc\n",
    "        av_acc += acc\n",
    "    \n",
    "print '\\nAverage R.O.C:', round(av_roc/max_trials, 3)\n",
    "print 'Average Accuracy:', round(av_acc/max_trials, 3)\n",
    "\n",
    "# using all folds: best ROC = 0.91, f-score = 0.592 (50 epochs)\n",
    "# using 2 folds: average ROC = 0.792, average f-score = 0.335\n",
    "\n",
    "# if you want to save the model, uncomment this...\n",
    "#filepath = \"models/salamon-cnn-model.h5\"\n",
    "#model.save(filepath)"
   ]
  },
  {
   "cell_type": "markdown",
   "metadata": {},
   "source": [
    "### Evaluating Predictions using a Pre-Trained Model"
   ]
  },
  {
   "cell_type": "markdown",
   "metadata": {},
   "source": [
    "To save time, once trained, a model can be saved and reloaded to generate predictions. The following cell also shows a summary of the CNN we've created."
   ]
  },
  {
   "cell_type": "markdown",
   "metadata": {},
   "source": [
    "A pretrained model has been supplied, enabling us to run predictions without creating and training a model from scratch, if you want to use it, run the following cell:"
   ]
  },
  {
   "cell_type": "code",
   "execution_count": 9,
   "metadata": {},
   "outputs": [
    {
     "name": "stdout",
     "output_type": "stream",
     "text": [
      "____________________________________________________________________________________________________\n",
      "Layer (type)                     Output Shape          Param #     Connected to                     \n",
      "====================================================================================================\n",
      "convolution2d_14 (Convolution2D) (None, 60, 41, 24)    456         convolution2d_input_2[0][0]      \n",
      "____________________________________________________________________________________________________\n",
      "maxpooling2d_9 (MaxPooling2D)    (None, 15, 20, 24)    0           convolution2d_14[0][0]           \n",
      "____________________________________________________________________________________________________\n",
      "activation_20 (Activation)       (None, 15, 20, 24)    0           maxpooling2d_9[0][0]             \n",
      "____________________________________________________________________________________________________\n",
      "convolution2d_15 (Convolution2D) (None, 15, 20, 48)    10416       activation_20[0][0]              \n",
      "____________________________________________________________________________________________________\n",
      "maxpooling2d_10 (MaxPooling2D)   (None, 3, 10, 48)     0           convolution2d_15[0][0]           \n",
      "____________________________________________________________________________________________________\n",
      "activation_21 (Activation)       (None, 3, 10, 48)     0           maxpooling2d_10[0][0]            \n",
      "____________________________________________________________________________________________________\n",
      "convolution2d_16 (Convolution2D) (None, 1, 8, 48)      20784       activation_21[0][0]              \n",
      "____________________________________________________________________________________________________\n",
      "activation_22 (Activation)       (None, 1, 8, 48)      0           convolution2d_16[0][0]           \n",
      "____________________________________________________________________________________________________\n",
      "flatten_5 (Flatten)              (None, 384)           0           activation_22[0][0]              \n",
      "____________________________________________________________________________________________________\n",
      "dense_9 (Dense)                  (None, 64)            24640       flatten_5[0][0]                  \n",
      "____________________________________________________________________________________________________\n",
      "activation_23 (Activation)       (None, 64)            0           dense_9[0][0]                    \n",
      "____________________________________________________________________________________________________\n",
      "dropout_10 (Dropout)             (None, 64)            0           activation_23[0][0]              \n",
      "____________________________________________________________________________________________________\n",
      "dense_10 (Dense)                 (None, 10)            650         dropout_10[0][0]                 \n",
      "____________________________________________________________________________________________________\n",
      "dropout_11 (Dropout)             (None, 10)            0           dense_10[0][0]                   \n",
      "____________________________________________________________________________________________________\n",
      "activation_24 (Activation)       (None, 10)            0           dropout_11[0][0]                 \n",
      "====================================================================================================\n",
      "Total params: 56946\n",
      "____________________________________________________________________________________________________\n",
      "None\n",
      "fold10 features:  (5218, 60, 41, 2)\n",
      "ROC: 0.91\n",
      "5216/5218 [============================>.] - ETA: 0s\n",
      "Accuracy = 0.59\n",
      "F-Score: 0.59\n",
      "\n",
      "Model R.O.C: 0.91\n",
      "Model Accuracy: 0.592\n"
     ]
    }
   ],
   "source": [
    "from keras.models import load_model\n",
    "from keras.utils.visualize_util import plot\n",
    "\n",
    "model_filepath = \"models/salamon-cnn-model.h5\"\n",
    "model = load_model(model_filepath)\n",
    "\n",
    "plot(model, show_shapes=True, to_file='models/salamon-cnn-model.svg')\n",
    "print model.summary()\n",
    "\n",
    "data_dir = \"data/us8k-np-cnn\"\n",
    "# model has never seen fold 10, so use that for testing\n",
    "test_x, test_y = load_folds([10])\n",
    "roc, acc = evaluate(model)\n",
    "print '\\nModel R.O.C:', round(roc, 3)\n",
    "print 'Model Accuracy:', round(acc, 3)"
   ]
  },
  {
   "cell_type": "markdown",
   "metadata": {},
   "source": [
    "Using micro-averaging we can create an ROC measure for this multi-class classification problem, by converting the predictions into boolean values, each representing positive or negative predictions for each possible class. The resulting ROC plot is shown below."
   ]
  },
  {
   "cell_type": "code",
   "execution_count": 10,
   "metadata": {},
   "outputs": [
    {
     "data": {
      "image/png": "[encoded data removed]",
      "text/plain": [
       "<matplotlib.figure.Figure at 0x11cefe690>"
      ]
     },
     "metadata": {},
     "output_type": "display_data"
    }
   ],
   "source": [
    "from sklearn.metrics import roc_curve, auc\n",
    "import matplotlib.pyplot as plt\n",
    "%matplotlib inline\n",
    "plt.style.use('ggplot')\n",
    "\n",
    "# obtain the prediction probabilities\n",
    "y_prob = model.predict_proba(test_x, verbose=0)\n",
    "y_pred = np_utils.probas_to_classes(y_prob)\n",
    "y_true = np.argmax(test_y, 1)\n",
    "\n",
    "fpr = dict()\n",
    "tpr = dict()\n",
    "roc_auc = dict()\n",
    "for i in range(num_labels):\n",
    "    fpr[i], tpr[i], _ = roc_curve(test_y[:, i], y_prob[:, i])\n",
    "    roc_auc[i] = auc(fpr[i], tpr[i])\n",
    "\n",
    "# Compute micro-average ROC curve and ROC area\n",
    "fpr[\"micro\"], tpr[\"micro\"], _ = roc_curve(test_y.ravel(), y_prob.ravel())\n",
    "roc_auc[\"micro\"] = auc(fpr[\"micro\"], tpr[\"micro\"])\n",
    "\n",
    "plt.figure()\n",
    "lw = 2\n",
    "plt.plot(fpr[2], tpr[2], color='darkorange', lw=lw, label='ROC curve (area = %0.2f)' % roc_auc[2])\n",
    "plt.plot([0, 1], [0, 1], color='navy', lw=lw, linestyle='--')\n",
    "plt.xlim([0.0, 1.0])\n",
    "plt.ylim([0.0, 1.05])\n",
    "plt.xlabel('False Positive Rate')\n",
    "plt.ylabel('True Positive Rate')\n",
    "plt.title('Receiver operating characteristic')\n",
    "plt.legend(loc=\"lower right\")\n",
    "plt.show()"
   ]
  },
  {
   "cell_type": "markdown",
   "metadata": {},
   "source": [
    "This saved model achieves an accuracy of 59%, and represents some of the best performance I've achieved with this particular neural network architecture."
   ]
  },
  {
   "cell_type": "code",
   "execution_count": 28,
   "metadata": {},
   "outputs": [
    {
     "name": "stdout",
     "output_type": "stream",
     "text": [
      "Showing Confusion Matrix\n",
      "              air-con     horn children      dog    drill   engine      gun   hammer    siren    music\n",
      "     air-con      514        0        9        0        1       40        0       70        8       58\n",
      "        horn        6       65       12        3        2        5        0        3        1       38\n",
      "    children        9        2      442      102       14        3        1        0       43       76\n",
      "         dog       13        5      101      279       12       16        0        0       27       62\n",
      "       drill       31        3       26        4      290       43        0       67       66       93\n",
      "      engine       43        0      157        0       15      366        0        9        0       50\n",
      "         gun        0        0        5       18        3        1       45        0        0        0\n",
      "      hammer        6        1       16        0      149        6        0      399        0       11\n",
      "       siren       53       11      164       40       14       11        0        0      256        4\n",
      "       music       43       11      102        0       65        2        0       29       14      434\n"
     ]
    },
    {
     "data": {
      "text/plain": [
       "<matplotlib.axes._subplots.AxesSubplot at 0x12febd8d0>"
      ]
     },
     "execution_count": 28,
     "metadata": {},
     "output_type": "execute_result"
    },
    {
     "data": {
      "image/png": "[encoded data removed]",
      "text/plain": [
       "<matplotlib.figure.Figure at 0x12f6e8f10>"
      ]
     },
     "metadata": {},
     "output_type": "display_data"
    }
   ],
   "source": [
    "from sklearn.metrics import confusion_matrix\n",
    "import seaborn as sn\n",
    "import pandas as pd\n",
    "\n",
    "labels = [\"air-con\",\"horn\",\"children\",\"dog\",\"drill\",\"engine\",\"gun\",\"hammer\",\"siren\",\"music\"]\n",
    "print \"Showing Confusion Matrix\"\n",
    "y_prob = model.predict_proba(test_x, verbose=0)\n",
    "y_pred = np_utils.probas_to_classes(y_prob)\n",
    "y_true = np.argmax(test_y, 1)\n",
    "cm = confusion_matrix(y_true, y_pred)\n",
    "\n",
    "def print_cm(cm, labels, hide_zeroes=False, hide_diagonal=False, hide_threshold=None):\n",
    "    \"\"\"pretty print for confusion matrixes\"\"\"\n",
    "    columnwidth = max([len(x) for x in labels]+[5]) # 5 is value length\n",
    "    empty_cell = \" \" * columnwidth\n",
    "    # Print header\n",
    "    print \"    \" + empty_cell,\n",
    "    for label in labels: \n",
    "        print \"%{0}s\".format(columnwidth) % label,\n",
    "    print\n",
    "    # Print rows\n",
    "    for i, label1 in enumerate(labels):\n",
    "        print \"    %{0}s\".format(columnwidth) % label1,\n",
    "        for j in range(len(labels)): \n",
    "            cell = \"%{0}s\".format(columnwidth) % cm[i, j]\n",
    "            if hide_zeroes:\n",
    "                cell = cell if float(cm[i, j]) != 0 else empty_cell\n",
    "            if hide_diagonal:\n",
    "                cell = cell if i != j else empty_cell\n",
    "            if hide_threshold:\n",
    "                cell = cell if cm[i, j] > hide_threshold else empty_cell\n",
    "            print cell,\n",
    "        print\n",
    "    \n",
    "print_cm(cm, labels)\n",
    "\n",
    "df_cm = pd.DataFrame(cm, labels, labels)\n",
    "plt.figure(figsize = (16,8))\n",
    "sn.heatmap(df_cm, annot=True, annot_kws={\"size\": 14}, fmt='g', linewidths=.5)"
   ]
  },
  {
   "cell_type": "code",
   "execution_count": 37,
   "metadata": {},
   "outputs": [
    {
     "name": "stdout",
     "output_type": "stream",
     "text": [
      "\n",
      "-----  air conditioner -----\n",
      "Top guess:  air conditioner  ( 0.914 )\n",
      "2nd guess:  siren  ( 0.02 )\n",
      "\n",
      "-----  car horn -----\n",
      "Top guess:  car horn  ( 0.873 )\n",
      "2nd guess:  street music  ( 0.066 )\n",
      "\n",
      "-----  children playing -----\n",
      "Top guess:  children playing  ( 0.306 )\n",
      "2nd guess:  street music  ( 0.199 )\n",
      "\n",
      "-----  dog bark -----\n",
      "Top guess:  dog bark  ( 0.652 )\n",
      "2nd guess:  children playing  ( 0.244 )\n",
      "\n",
      "-----  drilling -----\n",
      "Top guess:  drilling  ( 0.595 )\n",
      "2nd guess:  jackhammer  ( 0.103 )\n",
      "\n",
      "-----  engine idling -----\n",
      "Top guess:  engine idling  ( 0.876 )\n",
      "2nd guess:  street music  ( 0.033 )\n",
      "\n",
      "-----  gun shot -----\n",
      "Top guess:  gun shot  ( 0.621 )\n",
      "2nd guess:  drilling  ( 0.087 )\n",
      "\n",
      "-----  jackhammer -----\n",
      "Top guess:  jackhammer  ( 0.794 )\n",
      "2nd guess:  street music  ( 0.041 )\n",
      "\n",
      "-----  siren -----\n",
      "Top guess:  siren  ( 0.97 )\n",
      "2nd guess:  street music  ( 0.013 )\n",
      "\n",
      "-----  street music -----\n",
      "Top guess:  street music  ( 0.729 )\n",
      "2nd guess:  car horn  ( 0.056 )\n"
     ]
    }
   ],
   "source": [
    "sound_file_paths = [\"aircon.wav\", \"carhorn.wav\", \"play.wav\", \"dogbark.wav\", \"drill.wav\",\n",
    "                    \"engine.wav\",\"gunshots.wav\",\"jackhammer.wav\",\"siren.wav\",\"music.wav\"]\n",
    "sound_names = [\"air conditioner\",\"car horn\",\"children playing\",\"dog bark\",\"drilling\",\"engine idling\",\n",
    "               \"gun shot\",\"jackhammer\",\"siren\",\"street music\"]\n",
    "parent_dir = 'samples/us8k/'\n",
    "\n",
    "def windows(data, window_size):\n",
    "    start = 0\n",
    "    while start < len(data):\n",
    "        yield start, start + window_size\n",
    "        start += (window_size / 2)\n",
    "\n",
    "def extract_features_array(filename, bands = 60, frames = 41):\n",
    "    window_size = 512 * (frames - 1)\n",
    "    log_specgrams = []\n",
    "    sound_clip,s = librosa.load(filename)        \n",
    "    for (start,end) in windows(sound_clip,window_size):\n",
    "        if(len(sound_clip[start:end]) == window_size):\n",
    "            signal = sound_clip[start:end]\n",
    "            melspec = librosa.feature.melspectrogram(signal, n_mels = bands)\n",
    "            logspec = librosa.logamplitude(melspec)\n",
    "            logspec = logspec.T.flatten()[:, np.newaxis].T\n",
    "            log_specgrams.append(logspec)\n",
    "            \n",
    "    log_specgrams = np.asarray(log_specgrams).reshape(len(log_specgrams),bands,frames,1)\n",
    "    features = np.concatenate((log_specgrams, np.zeros(np.shape(log_specgrams))), axis = 3)\n",
    "    for i in range(len(features)):\n",
    "        features[i, :, :, 1] = librosa.feature.delta(features[i, :, :, 0])\n",
    "    \n",
    "    return np.array(features)\n",
    "\n",
    "\n",
    "# create predictions for each of the sound classes\n",
    "for s in range(len(sound_names)):\n",
    "\n",
    "    print \"\\n----- \", sound_names[s], \"-----\"\n",
    "    # load audio file and extract features\n",
    "    predict_file = parent_dir + sound_file_paths[s]\n",
    "    predict_x = extract_features_array(predict_file)\n",
    "    \n",
    "    # generate prediction, passing in just a single row of features\n",
    "    predictions = model.predict(predict_x)\n",
    "    \n",
    "    if len(predictions) == 0: \n",
    "        print \"No prediction\"\n",
    "        continue\n",
    "        \n",
    "    #for i in range(len(predictions[0])):\n",
    "    #    print sound_names[i], \"=\", round(predictions[0,i] * 100, 1)\n",
    "    \n",
    "    # get the indices of the top 2 predictions, invert into descending order\n",
    "    ind = np.argpartition(predictions[0], -2)[-2:]\n",
    "    ind[np.argsort(predictions[0][ind])]\n",
    "    ind = ind[::-1]\n",
    "    \n",
    "    print \"Top guess: \", sound_names[ind[0]], \" (\",round(predictions[0,ind[0]],3),\")\"\n",
    "    print \"2nd guess: \", sound_names[ind[1]], \" (\",round(predictions[0,ind[1]],3),\")\"\n",
    "\n",
    "    "
   ]
  },
  {
   "cell_type": "markdown",
   "metadata": {
    "collapsed": true
   },
   "source": [
    "Although this model can correctly identify all 10 samples, the accuracy across the entire test set is still only 59%. From my investigations, there do seem to be certain recordings the classifier finds difficult to identify correctly, these tend to be the very short recordings, 1 or 2 seconds long, and recordings that consist of only rapid repetitive noise. \n",
    "\n",
    "I managed to get slightly better results with the CNN than my best FFN, an ROC of 0.91 with the CNN, compared to 0.89 with my FFN. My max f-score accuracy for both is about 60%. Getting higher results proved difficult, and there may be diminishing returns for effort given the constraints of the data set, (8000 samples isn't a huge amount, and it does include some repetition of same sound source).\n",
    "\n",
    "In their paper Salamon and Bello report an accuracy of 73% - but it's worth bearing in mind that their CNN is optimised for a different feature extraction process. I was feeding my implementation of their CNN features extracted with Piczak's method."
   ]
  },
  {
   "cell_type": "markdown",
   "metadata": {},
   "source": [
    "From the plot of accuracy indicates whether the model could be trained further (if the accuracy trend is still rising for the final epochs). It will also indicate if the model has over-learned the training dataset, it should show comparable performance on both train and test datasets. If the model is overfitting the accuracy graph will show excellent performance on the training data, and poor performance on the test data.\n",
    "\n",
    "Ideally, in the loss graph, we should see comparable performance in both the training and validation datasets.\n"
   ]
  },
  {
   "cell_type": "code",
   "execution_count": 21,
   "metadata": {},
   "outputs": [
    {
     "name": "stdout",
     "output_type": "stream",
     "text": [
      "History keys: ['acc', 'loss', 'val_acc', 'val_loss']\n"
     ]
    },
    {
     "data": {
      "image/png": "[encoded data removed]",
      "text/plain": [
       "<matplotlib.figure.Figure at 0x122f80bd0>"
      ]
     },
     "metadata": {},
     "output_type": "display_data"
    }
   ],
   "source": [
    "fig = plt.figure(figsize=(16,6))\n",
    "\n",
    "print \"History keys:\", (history.history.keys())\n",
    "# summarise history for training and validation set accuracy\n",
    "plt.subplot(1,2,1)\n",
    "plt.plot(history.history['acc'])\n",
    "plt.plot(history.history['val_acc'])\n",
    "plt.title('Model Accuracy')\n",
    "plt.ylabel('accuracy')\n",
    "plt.xlabel('epoch')\n",
    "plt.legend(['train', 'validation'], loc='upper left')\n",
    "\n",
    "# summarise history for training and validation set loss\n",
    "plt.subplot(1,2,2)\n",
    "plt.plot(history.history['loss'])\n",
    "plt.plot(history.history['val_loss'])\n",
    "plt.title('Model Loss')\n",
    "plt.ylabel('loss')\n",
    "plt.xlabel('epoch')\n",
    "plt.legend(['train', 'validation'], loc='upper left')\n",
    "plt.show()"
   ]
  },
  {
   "cell_type": "markdown",
   "metadata": {},
   "source": [
    "The Accuracy plot on the left provides an insight into whether the model has reached a plateau or could be potentially trained further. It should also show comparable performance on both train and validation datasets, otherwise this would be an indication that the model has over-learned the training dataset.\n",
    "\n",
    "The Loss plot on the right should show comparable performance in both the training and validation datasets. Should these parallel plots start to diverge, it might be a indication we should stop training earlier. "
   ]
  },
  {
   "cell_type": "markdown",
   "metadata": {},
   "source": [
    "#### Next Up\n",
    "\n",
    "To summarise then, I've managed to implement a general audio classifier capable of distinguishing between different sources of sound. Next, I intend to investigate whether this classifier will be able to effectively recognise some very different sources of sound: birdsong. "
   ]
  },
  {
   "cell_type": "code",
   "execution_count": null,
   "metadata": {
    "collapsed": true
   },
   "outputs": [],
   "source": []
  }
 ],
 "metadata": {
  "anaconda-cloud": {},
  "kernelspec": {
   "display_name": "Python 2",
   "language": "python",
   "name": "python2"
  },
  "language_info": {
   "codemirror_mode": {
    "name": "ipython",
    "version": 2
   },
   "file_extension": ".py",
   "mimetype": "text/x-python",
   "name": "python",
   "nbconvert_exporter": "python",
   "pygments_lexer": "ipython2",
   "version": "2.7.10"
  }
 },
 "nbformat": 4,
 "nbformat_minor": 1
}
