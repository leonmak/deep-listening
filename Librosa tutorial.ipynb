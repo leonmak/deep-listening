{
 "cells": [
  {
   "cell_type": "code",
   "execution_count": 14,
   "metadata": {},
   "outputs": [
    {
     "data": {
      "text/plain": [
       "'/Users/leonmak/.virtualenvs/keras-tf2/lib/python2.7/site-packages/librosa/util/example_data/Kevin_MacLeod_-_Vibe_Ace.ogg'"
      ]
     },
     "execution_count": 14,
     "metadata": {},
     "output_type": "execute_result"
    }
   ],
   "source": [
    "from __future__ import print_function\n",
    "import librosa\n",
    "\n",
    "file_path = librosa.util.example_audio_file()\n",
    "file_path"
   ]
  },
  {
   "cell_type": "code",
   "execution_count": 8,
   "metadata": {},
   "outputs": [
    {
     "ename": "TypeError",
     "evalue": "slice indices must be integers or None or have an __index__ method",
     "output_type": "error",
     "traceback": [
      "\u001b[0;31m---------------------------------------------------------------------------\u001b[0m",
      "\u001b[0;31mTypeError\u001b[0m                                 Traceback (most recent call last)",
      "\u001b[0;32m<ipython-input-8-4fe2294420cb>\u001b[0m in \u001b[0;36m<module>\u001b[0;34m()\u001b[0m\n\u001b[0;32m----> 1\u001b[0;31m \u001b[0;34m[\u001b[0m\u001b[0;36m1\u001b[0m\u001b[0;34m,\u001b[0m\u001b[0;36m445\u001b[0m\u001b[0;34m,\u001b[0m\u001b[0;36m3351\u001b[0m\u001b[0;34m,\u001b[0m\u001b[0;36m0\u001b[0m\u001b[0;34m]\u001b[0m\u001b[0;34m[\u001b[0m\u001b[0;36m0\u001b[0m\u001b[0;34m:\u001b[0m\u001b[0;34m''\u001b[0m\u001b[0;34m]\u001b[0m\u001b[0;34m\u001b[0m\u001b[0m\n\u001b[0m",
      "\u001b[0;31mTypeError\u001b[0m: slice indices must be integers or None or have an __index__ method"
     ]
    }
   ],
   "source": [
    "[1,445,3351,0][0:]"
   ]
  },
  {
   "cell_type": "code",
   "execution_count": 10,
   "metadata": {},
   "outputs": [
    {
     "name": "stdout",
     "output_type": "stream",
     "text": [
      "[ 0.  0.  0. ...,  0.  0.  0.] 22050\n",
      "129.19921875 [   5   24   43   63   83  103  122  142  162  182  202  222  242  262  281\n",
      "  301  321  341  361  382  401  421  441  461  480  500  520  540  560  580\n",
      "  600  620  639  658  678  698  718  737  758  777  798  817  837  857  877\n",
      "  896  917  936  957  976  996 1016 1036 1055 1075 1095 1116 1135 1155 1175\n",
      " 1195 1214 1234 1254 1275 1295 1315 1334 1354 1373 1394 1414 1434 1453 1473\n",
      " 1493 1513 1532 1553 1573 1593 1612 1632 1652 1672 1691 1712 1732 1752 1771\n",
      " 1791 1811 1831 1850 1871 1890 1911 1931 1951 1971 1990 2010 2030 2050 2070\n",
      " 2090 2110 2130 2150 2170 2190 2209 2229 2249 2269 2289 2309 2328 2348 2368\n",
      " 2388 2408 2428 2448 2468 2488 2508 2527 2547]\n"
     ]
    }
   ],
   "source": [
    "# load and decode audio - results default to mono (one channel) and 22050 Hz\n",
    "y_waveform, sampling_rate = librosa.load(file_path)\n",
    "\n",
    "# estimate tempo - returns bpm, \n",
    "tempo, beat_frames = librosa.beat.beat_track(y=y_waveform, sr=sampling_rate)\n"
   ]
  },
  {
   "cell_type": "code",
   "execution_count": 11,
   "metadata": {
    "collapsed": true
   },
   "outputs": [
    {
     "data": {
      "text/plain": [
       "array([  0.11609977,   0.55727891,   0.99845805,   1.46285714,\n",
       "         1.92725624,   2.39165533,   2.83283447,   3.29723356,\n",
       "         3.76163265,   4.22603175,   4.69043084,   5.15482993,\n",
       "         5.61922902,   6.08362812,   6.52480726,   6.98920635,\n",
       "         7.45360544,   7.91800454,   8.38240363,   8.87002268,\n",
       "         9.31120181,   9.77560091,  10.24      ,  10.70439909,\n",
       "        11.14557823,  11.60997732,  12.07437642,  12.53877551,\n",
       "        13.0031746 ,  13.4675737 ,  13.93197279,  14.39637188,\n",
       "        14.83755102,  15.27873016,  15.74312925,  16.20752834,\n",
       "        16.67192744,  17.11310658,  17.60072562,  18.04190476,\n",
       "        18.52952381,  18.97070295,  19.43510204,  19.89950113,\n",
       "        20.36390023,  20.80507937,  21.29269841,  21.73387755,\n",
       "        22.2214966 ,  22.66267574,  23.12707483,  23.59147392,\n",
       "        24.05587302,  24.49705215,  24.96145125,  25.42585034,\n",
       "        25.91346939,  26.35464853,  26.81904762,  27.28344671,\n",
       "        27.7478458 ,  28.18902494,  28.65342404,  29.11782313,\n",
       "        29.60544218,  30.06984127,  30.53424036,  30.9754195 ,\n",
       "        31.43981859,  31.88099773,  32.36861678,  32.83301587,\n",
       "        33.29741497,  33.7385941 ,  34.2029932 ,  34.66739229,\n",
       "        35.13179138,  35.57297052,  36.06058957,  36.52498866,\n",
       "        36.98938776,  37.43056689,  37.89496599,  38.35936508,\n",
       "        38.82376417,  39.26494331,  39.75256236,  40.21696145,\n",
       "        40.68136054,  41.12253968,  41.58693878,  42.05133787,\n",
       "        42.51573696,  42.9569161 ,  43.44453515,  43.88571429,\n",
       "        44.37333333,  44.83773243,  45.30213152,  45.76653061,\n",
       "        46.20770975,  46.67210884,  47.13650794,  47.60090703,\n",
       "        48.06530612,  48.52970522,  48.99410431,  49.4585034 ,\n",
       "        49.92290249,  50.38730159,  50.85170068,  51.29287982,\n",
       "        51.75727891,  52.221678  ,  52.6860771 ,  53.15047619,\n",
       "        53.61487528,  54.05605442,  54.52045351,  54.98485261,\n",
       "        55.4492517 ,  55.91365079,  56.37804989,  56.84244898,\n",
       "        57.30684807,  57.77124717,  58.23564626,  58.6768254 ,  59.14122449])"
      ]
     },
     "execution_count": 11,
     "metadata": {},
     "output_type": "execute_result"
    }
   ],
   "source": [
    "beat_times = librosa.frames_to_time(beat_frames, sr=sampling_rate)\n",
    "beat_times"
   ]
  },
  {
   "cell_type": "code",
   "execution_count": 12,
   "metadata": {
    "collapsed": true
   },
   "outputs": [],
   "source": [
    "librosa.output.times_csv('beat_times.csv', beat_times)"
   ]
  },
  {
   "cell_type": "code",
   "execution_count": 12,
   "metadata": {},
   "outputs": [
    {
     "name": "stdout",
     "output_type": "stream",
     "text": [
      "['Brown & Brown', 'Brown & Wilson', 'Brown & Bartlett', 'Brown & Rivera', 'Brown & Molloy', 'Brown & Opie', 'Wilson & Brown', 'Wilson & Wilson', 'Wilson & Bartlett', 'Wilson & Rivera', 'Wilson & Molloy', 'Wilson & Opie', 'Bartlett & Brown', 'Bartlett & Wilson', 'Bartlett & Bartlett', 'Bartlett & Rivera', 'Bartlett & Molloy', 'Bartlett & Opie', 'Rivera & Brown', 'Rivera & Wilson', 'Rivera & Bartlett', 'Rivera & Rivera', 'Rivera & Molloy', 'Rivera & Opie', 'Molloy & Brown', 'Molloy & Wilson', 'Molloy & Bartlett', 'Molloy & Rivera', 'Molloy & Molloy', 'Molloy & Opie', 'Opie & Brown', 'Opie & Wilson', 'Opie & Bartlett', 'Opie & Rivera', 'Opie & Molloy', 'Opie & Opie']\n"
     ]
    }
   ],
   "source": [
    "from multiprocessing import Pool\n",
    "from itertools import product\n",
    "from contextlib import contextmanager\n",
    "import sys\n",
    "\n",
    "\n",
    "if __name__ == '__main__':\n",
    "    names = ['Brown', 'Wilson', 'Bartlett', 'Rivera', 'Molloy', 'Opie']\n",
    "    if sys.version_info >= (3, 0):\n",
    "        pool = Pool(processes=3)\n",
    "        results = pool.starmap(merge_names, product(names, repeat=2))\n",
    "        print(results)\n",
    "    else:\n",
    "        with poolcontext(processes=3) as p:\n",
    "            results = p.map(merge_names_unpack, product(names, repeat=2))\n",
    "        print(results)\n",
    "\n",
    "\n",
    "def merge_names_unpack(args):\n",
    "    return merge_names(*args)\n",
    "\n",
    "def merge_names(a, b):\n",
    "    return '{} & {}'.format(a, b)\n",
    "\n",
    "@contextmanager\n",
    "def poolcontext(*args, **kwargs):\n",
    "    pool = Pool(*args, **kwargs)\n",
    "    yield pool\n",
    "    pool.terminate()\n",
    "         "
   ]
  },
  {
   "cell_type": "code",
   "execution_count": 35,
   "metadata": {},
   "outputs": [
    {
     "name": "stdout",
     "output_type": "stream",
     "text": [
      "z=testz\n",
      "b=testb\n",
      "c=testc\n",
      "args={'j': 'string'}\n",
      "a=testa\n",
      "b=testb\n",
      "c=testc\n",
      "args=('excess',)\n"
     ]
    }
   ],
   "source": [
    "def foo(z,b,c,**args):\n",
    "    print \"z=%s\" % (z,)\n",
    "    print \"b=%s\" % (b,)\n",
    "    print \"c=%s\" % (c,)\n",
    "    print \"args=%s\" % (args,)\n",
    "\n",
    "argdict = dict(z=\"testz\", b=\"testb\", c=\"testc\", j=\"string\")  # must be z,b,c\n",
    "foo(**argdict)\n",
    "\n",
    "def foo(a,b,c,*args):\n",
    "    print \"a=%s\" % (a,)\n",
    "    print \"b=%s\" % (b,)\n",
    "    print \"c=%s\" % (c,)\n",
    "    print \"args=%s\" % (args,)\n",
    "\n",
    "argtuple = (\"testa\",\"testb\",\"testc\",\"excess\")\n",
    "foo(*argtuple)\n"
   ]
  },
  {
   "cell_type": "code",
   "execution_count": null,
   "metadata": {
    "collapsed": true
   },
   "outputs": [],
   "source": []
  }
 ],
 "metadata": {
  "kernelspec": {
   "display_name": "keras-tf2",
   "language": "python",
   "name": "keras-tf2"
  },
  "language_info": {
   "codemirror_mode": {
    "name": "ipython",
    "version": 2
   },
   "file_extension": ".py",
   "mimetype": "text/x-python",
   "name": "python",
   "nbconvert_exporter": "python",
   "pygments_lexer": "ipython2",
   "version": "2.7.10"
  }
 },
 "nbformat": 4,
 "nbformat_minor": 2
}
